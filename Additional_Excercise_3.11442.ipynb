{
 "cells": [
  {
   "cell_type": "markdown",
   "metadata": {},
   "source": [
    "## 1. Write a Python program which creates a class named Cone and write a function calculate_area which calculates area of the cone\n",
    "\n",
    "### Please enter radius of the cone: 4\n",
    "### Please enter height of the cone: 5\n",
    "\n",
    "### Area of a cone with radius: 4.0 and height: 5.0 is: 83.73 "
   ]
  },
  {
   "cell_type": "code",
   "execution_count": 22,
   "metadata": {},
   "outputs": [],
   "source": [
    "import math\n",
    "\n",
    "\n",
    "class Cone:\n",
    "    def __init__(self):\n",
    "        self.radius = float(input(\"Please enter radius of the cone: \"))\n",
    "        self.height = float(input(\"Please enter height of the cone: \"))\n",
    "        self.area = self.calculate_area()\n",
    "    \n",
    "    def calculate_slant_height(self):\n",
    "        self.slant_height = math.sqrt(self.radius ** 2 + self.height **2)\n",
    "    \n",
    "    def calculate_area(self):\n",
    "        self.calculate_slant_height()\n",
    "        base_area = math.pi * (self.radius ** 2)\n",
    "        curved_area = math.pi * (self.radius * self.slant_height)\n",
    "        area = base_area + curved_area\n",
    "        \n",
    "        print(f'area of a cone with radius: {self.radius} and height: {self.height} is: {area}')\n",
    "        return area"
   ]
  },
  {
   "cell_type": "code",
   "execution_count": 24,
   "metadata": {},
   "outputs": [
    {
     "name": "stdout",
     "output_type": "stream",
     "text": [
      "Please enter radius of the cone: 4\n",
      "Please enter height of the cone: 5\n",
      "area of a cone with radius: 4.0 and height: 5.0 is: 130.72951471480383\n"
     ]
    },
    {
     "data": {
      "text/plain": [
       "130.72951471480383"
      ]
     },
     "execution_count": 24,
     "metadata": {},
     "output_type": "execute_result"
    }
   ],
   "source": [
    "cone1 = Cone()\n",
    "cone1.area"
   ]
  },
  {
   "cell_type": "markdown",
   "metadata": {},
   "source": [
    "## 2. Define a class MathOperation which implements pow(x,n) without using Python's inbuilt pow() method\n",
    "\n",
    "### pow(2,3) = 8"
   ]
  },
  {
   "cell_type": "code",
   "execution_count": 25,
   "metadata": {},
   "outputs": [],
   "source": [
    "class MathOperation:\n",
    "    def __init__(self, x, n):\n",
    "        self.x = x\n",
    "        self.n = n\n",
    "    \n",
    "    def pow(self):\n",
    "        return self.x ** self.n"
   ]
  },
  {
   "cell_type": "code",
   "execution_count": 27,
   "metadata": {},
   "outputs": [
    {
     "data": {
      "text/plain": [
       "1024"
      ]
     },
     "execution_count": 27,
     "metadata": {},
     "output_type": "execute_result"
    }
   ],
   "source": [
    "ops = MathOperation(4, 5)\n",
    "ops.pow()"
   ]
  },
  {
   "cell_type": "markdown",
   "metadata": {},
   "source": [
    "## 3. Write a Python program that creates a class Base and Derived. Use inbuild function issubclass and isinstance which gives boolean results."
   ]
  },
  {
   "cell_type": "code",
   "execution_count": 48,
   "metadata": {},
   "outputs": [],
   "source": [
    "class Base:\n",
    "    def __init__(self):\n",
    "        print('inside Base class')\n",
    "        self.a = 10\n",
    "\n",
    "class Derived(Base):\n",
    "    def __init__(self):\n",
    "        print(\"inside Derived class\")\n",
    "        super().__init__()\n",
    "        "
   ]
  },
  {
   "cell_type": "code",
   "execution_count": 53,
   "metadata": {},
   "outputs": [
    {
     "name": "stdout",
     "output_type": "stream",
     "text": [
      "inside Derived class\n",
      "inside Base class\n",
      "True\n",
      "True\n",
      "True\n"
     ]
    }
   ],
   "source": [
    "der = Derived()\n",
    "\n",
    "print(isinstance(der, Derived))\n",
    "print(isinstance(der, Base))\n",
    "\n",
    "print(issubclass(Derived, Base))"
   ]
  },
  {
   "cell_type": "markdown",
   "metadata": {},
   "source": [
    "## 4. Write a Python program that creates base class Person which has two methods\n",
    "\n",
    "### def __init__(self, first, last)\n",
    "### def __str__(self)\n",
    "\n",
    "## Also create a derived class named Employee which uses the base class method \"def __str__(self)\" using \"super()\" to concatenate first name with last name"
   ]
  },
  {
   "cell_type": "code",
   "execution_count": 60,
   "metadata": {},
   "outputs": [],
   "source": [
    "class Person:\n",
    "    def __init__(self, first, last):\n",
    "        self.first = first\n",
    "        self.last = last\n",
    "    \n",
    "    def __str__(self):\n",
    "        return self.first + ' ' + self.last\n",
    "\n",
    "class Employee(Person):\n",
    "    def __init__(self, first, last):\n",
    "        super().__init__(first, last)\n",
    "    "
   ]
  },
  {
   "cell_type": "code",
   "execution_count": 62,
   "metadata": {},
   "outputs": [
    {
     "name": "stdout",
     "output_type": "stream",
     "text": [
      "Manish Agrawal\n"
     ]
    }
   ],
   "source": [
    "emp = Employee('Manish', 'Agrawal')\n",
    "print(emp)"
   ]
  },
  {
   "cell_type": "code",
   "execution_count": null,
   "metadata": {},
   "outputs": [],
   "source": []
  }
 ],
 "metadata": {
  "kernelspec": {
   "display_name": "Python 3",
   "language": "python",
   "name": "python3"
  },
  "language_info": {
   "codemirror_mode": {
    "name": "ipython",
    "version": 3
   },
   "file_extension": ".py",
   "mimetype": "text/x-python",
   "name": "python",
   "nbconvert_exporter": "python",
   "pygments_lexer": "ipython3",
   "version": "3.6.5"
  }
 },
 "nbformat": 4,
 "nbformat_minor": 2
}
