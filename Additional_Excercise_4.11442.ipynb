{
 "cells": [
  {
   "cell_type": "markdown",
   "metadata": {},
   "source": [
    "## 1) Write a Python program which accepts a list named : randomList = ['a', 0,2]. Use exception handling using try-catch which gives the output as:\n",
    "### Output\n",
    "#### 1) If the List element is a alphabet or string, the output will be\n",
    "#### The entry is a\n",
    "#### Oops! <class 'ValueError'> occured.\n",
    "#### Next entry.\n",
    "#### 2) If the List element is “0”,the output will be\n",
    "#### The entry is 0\n",
    "#### Oops! <class 'ZeroDivisionError'> occured.\n",
    "#### Next entry.\n",
    "#### 3) If the List element is and integer except 0,then output will be\n",
    "#### The entry is 2\n",
    "#### The reciprocal of 2 is 0.5 // reciprocal of an integer"
   ]
  },
  {
   "cell_type": "code",
   "execution_count": 9,
   "metadata": {},
   "outputs": [],
   "source": [
    "randomList = [0, 'a', 2]"
   ]
  },
  {
   "cell_type": "code",
   "execution_count": 24,
   "metadata": {},
   "outputs": [],
   "source": [
    "def error_handling(list1):\n",
    "    \n",
    "    for ele in list1:\n",
    "        try:\n",
    "            print(f'The reciprocal of {ele} is {1/ele}')          \n",
    "        except Exception as ex:\n",
    "            print(\"Oops! '{0}' occured.\".format(ex.__class__))\n",
    "        finally:\n",
    "            print(\"Next entry\")\n",
    "\n",
    "    "
   ]
  },
  {
   "cell_type": "code",
   "execution_count": 25,
   "metadata": {},
   "outputs": [
    {
     "name": "stdout",
     "output_type": "stream",
     "text": [
      "Oops! '<class 'ZeroDivisionError'>' occured.\n",
      "Next entry\n",
      "Oops! '<class 'TypeError'>' occured.\n",
      "Next entry\n",
      "The reciprocal of 2 is 0.5\n",
      "Next entry\n"
     ]
    }
   ],
   "source": [
    "error_handling(randomList)"
   ]
  },
  {
   "cell_type": "markdown",
   "metadata": {},
   "source": [
    "## 2) Array out of Bound Exception\n",
    "### Write a Python program to give exception “Array Out of Bound” if the user wants to access the elements beyond the list size (use try and except)"
   ]
  },
  {
   "cell_type": "code",
   "execution_count": 15,
   "metadata": {},
   "outputs": [],
   "source": [
    "def exception1(list1):\n",
    "    try:\n",
    "        for i in range(len(list1) + 1):\n",
    "            a = list1[i]\n",
    "    except(IndexError):\n",
    "        print('Array Out of Bound')"
   ]
  },
  {
   "cell_type": "code",
   "execution_count": 16,
   "metadata": {},
   "outputs": [
    {
     "name": "stdout",
     "output_type": "stream",
     "text": [
      "Array Out of Bound\n"
     ]
    }
   ],
   "source": [
    "exception1(randomList)"
   ]
  },
  {
   "cell_type": "markdown",
   "metadata": {},
   "source": [
    "## 3) Write a python module script that contains fib2() method to calculate the fibonacci series till 1000 and save it as fibo.py"
   ]
  },
  {
   "cell_type": "code",
   "execution_count": 4,
   "metadata": {},
   "outputs": [],
   "source": [
    "#import sys\n",
    "#print(sys.path)\n",
    "import fibo"
   ]
  },
  {
   "cell_type": "code",
   "execution_count": 5,
   "metadata": {},
   "outputs": [
    {
     "name": "stdout",
     "output_type": "stream",
     "text": [
      "Fibonacci sequence upto {100} :\n"
     ]
    },
    {
     "data": {
      "text/plain": [
       "[0, 1, 1, 2, 3, 5, 8, 13, 21, 34, 55, 89]"
      ]
     },
     "execution_count": 5,
     "metadata": {},
     "output_type": "execute_result"
    }
   ],
   "source": [
    "fibo.fib2(100)"
   ]
  },
  {
   "cell_type": "markdown",
   "metadata": {},
   "source": [
    "## 4) Write a python module script that contains ispalindrome() method to calculate the input string as palindrome string or not and save it as palindrome.py"
   ]
  },
  {
   "cell_type": "code",
   "execution_count": 27,
   "metadata": {},
   "outputs": [
    {
     "name": "stdout",
     "output_type": "stream",
     "text": [
      "racecar1 is not a palindrome string\n"
     ]
    }
   ],
   "source": [
    "def palindrome(str1):\n",
    "    if str1.lower() == (str1[::-1]).lower():\n",
    "        return f'{str1} is palindrome string'\n",
    "    return f'{str1} is not a palindrome string'\n",
    "\n",
    "print(palindrome('racecar1'))"
   ]
  },
  {
   "cell_type": "code",
   "execution_count": null,
   "metadata": {},
   "outputs": [],
   "source": []
  }
 ],
 "metadata": {
  "kernelspec": {
   "display_name": "Python 3",
   "language": "python",
   "name": "python3"
  },
  "language_info": {
   "codemirror_mode": {
    "name": "ipython",
    "version": 3
   },
   "file_extension": ".py",
   "mimetype": "text/x-python",
   "name": "python",
   "nbconvert_exporter": "python",
   "pygments_lexer": "ipython3",
   "version": "3.6.5"
  }
 },
 "nbformat": 4,
 "nbformat_minor": 2
}
